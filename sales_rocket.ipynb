{
 "cells": [
  {
   "cell_type": "markdown",
   "metadata": {
    "id": "J3D6B2ac5Erk"
   },
   "source": [
    "# Sales Rocket 🚀🚀🚀\n",
    "\n",
    "Sales calls hold a wealth of untapped insights. Every transcript contains valuable signals about customer needs, objections, and pain points—but in most organizations, these records are left unused or are too cumbersome to analyze at scale. Traditional analytics tools struggle with this type of unstructured data, leaving sales teams without actionable guidance on how to improve their conversations or address recurring concerns.\n",
    "\n",
    "This project tackles the problem by leveraging BigQuery’s advanced AI capabilities to transform raw sales call transcripts into structured insights. Using Generative AI (**ML.GENERATE_TEXT**) within BigQuery, it extracts recurring and new objections that directly impact purchasing decisions. Instead of letting transcripts collect dust, it creates a dynamic feedback loop that empowers sales teams to refine their messaging and close more deals.\n",
    "\n",
    "\n",
    "\n",
    "#### Architecture Diagram\n",
    "\n",
    "```text\n",
    "      +----------------------------+        +------------------------------+\n",
    "      |        Call transcripts    |        |          Google Cloud        |\n",
    "      |        (text, CSV, JSON)   |        |    BigQuery & Vertex AI      |\n",
    "      +-------------+--------------+        +---------------+--------------+\n",
    "                    |  Load/ingest                          |\n",
    "                    v                                       |\n",
    "      +---------------------------+                         |\n",
    "      | BigQuery: call_transcripts|                         |\n",
    "      |           (table)         |                         |\n",
    "      +-------------+-------------+                         |\n",
    "                    |  Extract objections &                 |\n",
    "                    |  assign categories using              v\n",
    "                    |  ML.GENERATE_TEXT    +--------------------------------+   \n",
    "                    |<---------------------| Vertex AI Connection           |\n",
    "                    |                      | Gemini 2.5 Pro (generation)    |    \n",
    "                    |                      +--------------------------------+              \n",
    "                    v                                       \n",
    "      +---------------------------+\n",
    "      | BigQuery: objections      |\n",
    "      |           (table)         |\n",
    "      +-------------+-------------+\n",
    "                    |\n",
    "                    | Query / Dashboard / Export (e.g., BigQuery UI, BI)\n",
    "                    v\n",
    "      +---------------------------+\n",
    "      |  Sales team / RevOps      |\n",
    "      |  access insights          |\n",
    "      +---------------------------+\n",
    "```"
   ]
  },
  {
   "cell_type": "markdown",
   "metadata": {
    "id": "fghyc3OtnYPy"
   },
   "source": [
    "## 1. Prerequisites\n",
    "\n",
    "- **GCP Project** with BigQuery and Vertex AI services enabled\n",
    "- **Model**: BigQuery [remote model](https://cloud.google.com/bigquery/docs/generate-text) powered by Vertex AI (*Gemini 2.5 Pro*)\n",
    "- **Notebook Environment**: Google Colab or Kaggle (*with GCP integration*)  \n",
    "- **PyPi Dependencies**:  \n",
    "  - `datasets` — for loading the Hugging Face *saas-sales-conversations* dataset  \n",
    "  - `google-cloud-bigquery` — for interacting with BigQuery  \n",
    "  - `pandas` — for data manipulation  \n",
    "  - `matplotlib` - for visiualization\n",
    "- **Data**: Hugging Face [saas-sales-conversations](https://huggingface.co/datasets/DeepMostInnovations/saas-sales-conversations) datasets.\n"
   ]
  },
  {
   "cell_type": "markdown",
   "metadata": {
    "id": "ND7QBiT4okI0"
   },
   "source": [
    "### 1.1 Installing Dependendencies"
   ]
  },
  {
   "cell_type": "code",
   "execution_count": null,
   "metadata": {
    "id": "S6AVyT_ZqNOk"
   },
   "outputs": [],
   "source": [
    "!pip install pandas datasets google-cloud-bigquery matplotlib"
   ]
  },
  {
   "cell_type": "markdown",
   "metadata": {
    "id": "moLvI5FBx-3O"
   },
   "source": [
    "### 1.2 GCP Project & BigQuery Settings\n"
   ]
  },
  {
   "cell_type": "code",
   "execution_count": null,
   "metadata": {
    "id": "GyREHlMuyFIg"
   },
   "outputs": [],
   "source": [
    "# GCP Project ID\n",
    "project_id = '<your-gcp-project-id>'\n",
    "\n",
    "# BigQuery DataSet/Schema\n",
    "dataset_id = '<exsing-bq-schema-in-above-project>'\n",
    "\n",
    "# Call Transcripts Table Name\n",
    "call_transcripts_table = 'call_transcripts'\n",
    "\n",
    "# Objections Table\n",
    "objections_table = 'objections'\n",
    "\n",
    "# BigQuery Remote Model (format: project_id.dataset_id.model_name)\n",
    "remote_model = '<your-remote-model>'"
   ]
  },
  {
   "cell_type": "markdown",
   "metadata": {
    "id": "VKhTlJDVqizd"
   },
   "source": [
    "1.3 GCP Authentication for Google Colab"
   ]
  },
  {
   "cell_type": "code",
   "execution_count": null,
   "metadata": {
    "colab": {
     "base_uri": "https://localhost:8080/"
    },
    "id": "dgThj7Dkq5ru",
    "outputId": "bf9d8209-f15f-42ab-f5a2-9f887d2eec6a"
   },
   "outputs": [],
   "source": [
    "# Obtain GCP auth token if the notebook is hosted by Colab\n",
    "try:\n",
    "  from google.colab import auth\n",
    "  auth.authenticate_user()\n",
    "  print('Authenticated using Google Colab')\n",
    "except:\n",
    "  print('Not authenticated using Google Colab')"
   ]
  },
  {
   "cell_type": "markdown",
   "metadata": {
    "id": "ijCHU9Lp2LqF"
   },
   "source": [
    "## 2. Data\n",
    "\n",
    "The Hugging Face [saas-sales-conversations](https://huggingface.co/datasets/DeepMostInnovations/saas-sales-conversations) dataset is a synthetic collection of sales conversations for SaaS companies, designed for training sales conversion prediction models.\n",
    "\n",
    "For this project, we will use a subset of sales calls related to the *DataFlow Pro* product, filtered to include only conversations with more than 15 words.  "
   ]
  },
  {
   "cell_type": "markdown",
   "metadata": {
    "id": "l0vIuo6brFCn"
   },
   "source": [
    "###"
   ]
  },
  {
   "cell_type": "markdown",
   "metadata": {
    "id": "W9lvIINB3fVd"
   },
   "source": [
    "### 2.1 Download saas-sales-conversations Dataset"
   ]
  },
  {
   "cell_type": "code",
   "execution_count": null,
   "metadata": {
    "colab": {
     "base_uri": "https://localhost:8080/",
     "height": 841,
     "referenced_widgets": [
      "90b390a9debd4f79bba28eb14e52fe41",
      "0d0d51cdccd14c76b746eb02433a02be",
      "296ae0a21d1c4bdc909c85eeeb2dae96",
      "bfef5ec2da564478b9b6040de5225a65",
      "ee01227946274e3e89fd291e64e2a913",
      "aa1df8c488734a2899b79308b37264b8",
      "f1f55d599cd44b5d940462a41f83b3d3",
      "9707c39d7abe4b5fbaf378e761c02864",
      "1db18f01a417458abc1ece9977951275",
      "210d7cdc56364ad8814aa5a2462c24ed",
      "313d9e1e8c394dea9f081eec204148f2",
      "5f9efcaa57cc486888ebb411accdd71b",
      "23209ddc3fc14ac6b3d0c8739316e278",
      "2fbda3a252144781aba2da7ec996d0fc",
      "ef1e99d889af48db8df31ef72ab6e025",
      "49decec3ddd54116ac410f7167a92431",
      "c9ea3420066f47619eb19827c207cd2d",
      "d4b4a8bc65c94b39a7427e62e4e6a9b1",
      "d825c1e560bd40559fcd9a2c69c955f2",
      "c0f48388483a4d17b7d9b6c9232ccc63",
      "762e0c0bd0894c3abe13c474d273f35c",
      "cc3498567c0347e6a28d0354a4a17172",
      "6c88325028644649b65573fe713ea772",
      "997e76b6b04a4676a9c127ff469b6156",
      "ab488724d8a4497aa8714229754f7ab0",
      "5dd97f722b5042d7898f1f84fea97f91",
      "83a949522aa24b2b991d002a57e74812",
      "98b1f6310dfb4824b21ed888aded46a7",
      "963d8449f6fd41b4aeacb3089989d1f6",
      "6112ee2161784691b709deaadb155e70",
      "d91dd8b2b6864da6b41ce528e4bc3aa0",
      "687b6c25b74b4332ad776a7e1b22de21",
      "fc54ba8da1224fd0946baeb1a318c205"
     ]
    },
    "id": "GyExZGqF3so0",
    "outputId": "5689dc36-0116-46fa-eec3-5795ae65f356"
   },
   "outputs": [],
   "source": [
    "from datasets import load_dataset\n",
    "\n",
    "# Download saas-sales-conversations dataset\n",
    "dataset = load_dataset(\"DeepMostInnovations/saas-sales-conversations\", split=\"train\")\n",
    "\n",
    "# Convert dataset to pandas dataframe\n",
    "all_conversations_df = dataset.to_pandas()\n",
    "\n",
    "# Data preview\n",
    "all_conversations_df.head()"
   ]
  },
  {
   "cell_type": "markdown",
   "metadata": {
    "id": "PR4RvJNtIY3N"
   },
   "source": [
    "### 2.2 Extract Data Subset"
   ]
  },
  {
   "cell_type": "code",
   "execution_count": null,
   "metadata": {
    "colab": {
     "base_uri": "https://localhost:8080/",
     "height": 206
    },
    "id": "5O19HOhKGus3",
    "outputId": "4c4f90c8-774a-45b3-de1c-8356a060a5ac"
   },
   "outputs": [],
   "source": [
    "# Extract conversations for DataFlow Pro product\n",
    "dataflow_pro_conversations_df = all_conversations_df[all_conversations_df['product_name'] == 'DataFlow Pro']\n",
    "\n",
    "# Filter conversations that have over 15 words\n",
    "dataflow_pro_conversations_df = dataflow_pro_conversations_df[dataflow_pro_conversations_df['conversation_length'] > 15]\n",
    "\n",
    "# Extract \"conversation_id\", \"scenario\", \"conversation\" and \"full_text\" columns\n",
    "dataflow_pro_conversations_df = dataflow_pro_conversations_df[['conversation_id', 'scenario', 'conversation', 'full_text']]\n",
    "\n",
    "# Data preview\n",
    "dataflow_pro_conversations_df.head()"
   ]
  },
  {
   "cell_type": "markdown",
   "metadata": {
    "id": "vNGYlC4HIAvd"
   },
   "source": [
    "### 2.3 Uplaod the Conversations to BigQuery"
   ]
  },
  {
   "cell_type": "code",
   "execution_count": null,
   "metadata": {
    "colab": {
     "base_uri": "https://localhost:8080/"
    },
    "id": "TNKu1M1qJAE2",
    "outputId": "33ef870d-c13f-451e-fb46-f18fe64a5d4f"
   },
   "outputs": [],
   "source": [
    "from google.cloud import bigquery\n",
    "\n",
    "# Create or replace call BigQuery table\n",
    "dataflow_pro_conversations_df.to_gbq(\n",
    "    project_id=project_id,\n",
    "    destination_table=f'{dataset_id}.{call_transcripts_table}',\n",
    "    if_exists='replace')"
   ]
  },
  {
   "cell_type": "markdown",
   "metadata": {
    "id": "R_Xhm-1lKC3F"
   },
   "source": [
    "## 3. Extract Objections Using BigQuery ML\n",
    "\n",
    "In this step, we will use BigQuery's `ML.GENERATE_TEXT` functionality to automatically identify and extract sales objections from call transcripts. By leveraging generative AI within BigQuery, we can process unstructured text data and generate structured insights that highlight recurring concerns raised during sales conversations.  "
   ]
  },
  {
   "cell_type": "markdown",
   "metadata": {
    "id": "4ArkgYTFKQow"
   },
   "source": [
    "### 3.1 Create objections Table"
   ]
  },
  {
   "cell_type": "code",
   "execution_count": null,
   "metadata": {
    "id": "zcBVdIclNC9A"
   },
   "outputs": [],
   "source": [
    "# Query to create objections table\n",
    "query = f'''\n",
    "DECLARE prompt_template STRING;\n",
    "\n",
    "SET prompt_template = \"\"\"You are an expert conversational analyst specializing in business to business SaaS tool sales. Your task is to analyze the provided call transcript between a Sales Executive (\"sales_rep\") and a prospective customer (\"Customer\").\n",
    "\n",
    "Your primary objective is to analyze the call transcript that is included below. Using the information in the call transcript only your goal is to return following information:\n",
    "\n",
    "Specific Objections: This is information regarding any objections expressed by the customer during the call. Objections may be about DataFlow Pro product and its features, or even about a potential sales contract. Provide the following for each:\n",
    "  - name: a short descriptor (2 words or less) summarizing the objection.\n",
    "  - concern_summary: a detailed explanation of the objection in one sentence or less.\n",
    "  - category: 1 for all pricing related objections, 2 for all secuirty related objections, 3 for all integration or implementation related objections, 4 for all ROI related objections, 5 for all scalability related objections, and 6 for all other objections.\n",
    "\n",
    "\n",
    "Provide your selections as a JSON output without additional commentary. Return the response strictly in the JSON format as follows with nothing else and do not label it as JSON. If there is no applicable information for any category, still include that category with an empty list. Make sure all strings are contained in quotes:\n",
    "'{{\n",
    "  \"objections\": [\n",
    "    {{\"name\": STRING,\n",
    "     \"summary\": STRING,\n",
    "     \"category\": INTEGER\n",
    "    }}\n",
    "  ]\n",
    "}}'\n",
    "\n",
    "**Normal Output Example:**\n",
    "'{{\n",
    "  \"objections\": [\n",
    "    {{\"name\": \"Pricing\"\n",
    "     \"summary\": \"The customer's voiced the objection X number of times.\",\n",
    "     \"category\": 1\n",
    "    }},\n",
    "    {{\"name\": \"Integration\"\n",
    "     \"summary\": \"The customer uses XYZ products and concerned about the integration process.\",\n",
    "     \"category\": 3\n",
    "    }}\n",
    "  ]\n",
    "}}'\n",
    "\n",
    "**Empty Output Example:**\n",
    "'{{\n",
    "  \"objections\": [\n",
    "  ]\n",
    "}}'\n",
    "\n",
    "Call Transcript:\n",
    "\n",
    "\"\"\";\n",
    "\n",
    "\n",
    "-- Create objections table\n",
    "CREATE OR REPLACE TABLE `{project_id}.{dataset_id}.{objections_table}`\n",
    "AS\n",
    "\n",
    "WITH transcripts AS (\n",
    "  SELECT\n",
    "    conversation_id,\n",
    "    prompt_template || conversation as prompt\n",
    "  FROM `{project_id}.{dataset_id}.{call_transcripts_table}`\n",
    "),\n",
    "\n",
    "objections_nested AS (\n",
    "  SELECT\n",
    "    conversation_id,\n",
    "    TRIM(REGEXP_REPLACE(ml_generate_text_llm_result, \"(```|json)\", \"\")) AS generated_text\n",
    "  FROM ML.GENERATE_TEXT(MODEL `{ remote_model }`,\n",
    "                        TABLE transcripts,\n",
    "                        STRUCT(0.2 AS temperature,\n",
    "                              8000 AS max_output_tokens,\n",
    "                              TRUE AS flatten_json_output))\n",
    "),\n",
    "\n",
    "objections AS (\n",
    "  SELECT\n",
    "    conversation_id,\n",
    "    JSON_VALUE(objection, '$.name') AS objection_name,\n",
    "    JSON_VALUE(objection, '$.summary') AS objection_summary,\n",
    "    CAST(JSON_VALUE(objection, '$.category') AS INT64) AS objection_category\n",
    "  FROM objections_nested\n",
    "    INNER JOIN UNNEST(JSON_EXTRACT_ARRAY(generated_text, '$.objections')) AS objection\n",
    ")\n",
    "\n",
    "SELECT *\n",
    "FROM objections;\n",
    "'''\n",
    "\n",
    "# print(query)"
   ]
  },
  {
   "cell_type": "code",
   "execution_count": null,
   "metadata": {
    "colab": {
     "base_uri": "https://localhost:8080/"
    },
    "id": "hhKAEzLP-ud2",
    "outputId": "74d9ea58-bb85-4f4d-b895-55a40ecbfc0a"
   },
   "outputs": [],
   "source": [
    "from google.cloud import bigquery\n",
    "# Create objections table\n",
    "client = bigquery.Client(project=project_id)\n",
    "query_job = client.query(query)\n",
    "query_job.result()\n",
    "print('Objections table is created successfully')"
   ]
  },
  {
   "cell_type": "markdown",
   "metadata": {
    "id": "yLCc_8uNOdXE"
   },
   "source": [
    "## 4. Download objections Table as a DataFame"
   ]
  },
  {
   "cell_type": "code",
   "execution_count": null,
   "metadata": {
    "colab": {
     "base_uri": "https://localhost:8080/",
     "height": 206
    },
    "id": "5_kkKwtzOxbS",
    "outputId": "61bac52e-7bd0-4c9e-bd38-186b10d33c15"
   },
   "outputs": [],
   "source": [
    "# Download objections Table as a DataFame\n",
    "objections_df = client.query(f'SELECT * FROM `{project_id}.{dataset_id}.{objections_table}`').to_dataframe()\n",
    "\n",
    "# Assign category names\n",
    "category_mapping = {\n",
    "    1: 'Pricing',\n",
    "    2: 'Security',\n",
    "    3: 'Integration',\n",
    "    4: 'ROI',\n",
    "    5: 'Scalibility',\n",
    "    6: 'Other'\n",
    "}\n",
    "objections_df['objection_category'] = objections_df['objection_category'].map(category_mapping)\n",
    "\n",
    "# Data preview\n",
    "objections_df.head()"
   ]
  },
  {
   "cell_type": "markdown",
   "metadata": {
    "id": "12CdjYosOysj"
   },
   "source": [
    "## 5. Visualize and Analyze"
   ]
  },
  {
   "cell_type": "markdown",
   "metadata": {
    "id": "vBy9COGXN-12"
   },
   "source": [
    "### 5.1 Visualize the Results"
   ]
  },
  {
   "cell_type": "code",
   "execution_count": null,
   "metadata": {
    "colab": {
     "base_uri": "https://localhost:8080/",
     "height": 834
    },
    "id": "s7KfdoemJK44",
    "outputId": "c73dbdc4-eaf3-4315-a666-7aac90e564c2"
   },
   "outputs": [],
   "source": [
    "import matplotlib.pyplot as plt\n",
    "\n",
    "# Draw objections PIE chart using category field\n",
    "fig, ax = plt.subplots(figsize=(10, 14))\n",
    "ax.pie(objections_df['objection_category'].value_counts(), labels=objections_df['objection_category'].value_counts().index, autopct='%1.1f%%')\n",
    "ax.set_title('Objections by Categories')\n",
    "ax.legend(loc='upper right')\n",
    "plt.show()"
   ]
  },
  {
   "cell_type": "markdown",
   "metadata": {
    "id": "AL1zPoXlJr6o"
   },
   "source": [
    "### 5.2 Dive Deeper into Objections in the \"Other\" Category\n",
    "\n",
    "In addition to the main categories of objections, we can analyze the transcripts labeled as **\"Other\"** to uncover less common but potentially critical concerns. By understanding these overlooked objections, sales teams can prepare targeted response scripts and ensure they are equipped to handle a wider range of scenarios during future conversations.  "
   ]
  },
  {
   "cell_type": "code",
   "execution_count": null,
   "metadata": {
    "colab": {
     "base_uri": "https://localhost:8080/",
     "height": 1000
    },
    "id": "EnNyFJ-8OJsw",
    "outputId": "7ebb5a96-7ad5-4127-8269-2840d3f038c1"
   },
   "outputs": [],
   "source": [
    "# Filter objections in \"Other\" category\n",
    "objections_df[objections_df['objection_category'] == 'Other'].sort_values(by='objection_name')"
   ]
  },
  {
   "cell_type": "code",
   "execution_count": null,
   "metadata": {
    "id": "21J_MSTEORS1"
   },
   "outputs": [],
   "source": []
  }
 ],
 "metadata": {
  "colab": {
   "provenance": []
  },
  "kernelspec": {
   "display_name": "Python 3",
   "name": "python3"
  },
  "language_info": {
   "name": "python"
  }
 },
 "nbformat": 4,
 "nbformat_minor": 0
}
